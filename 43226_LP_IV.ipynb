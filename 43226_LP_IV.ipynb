{
 "cells": [
  {
   "cell_type": "code",
   "execution_count": 31,
   "id": "013ad23c",
   "metadata": {},
   "outputs": [],
   "source": [
    "from sklearn.preprocessing import MinMaxScaler\n",
    "from keras.preprocessing.text import Tokenizer\n",
    "from tensorflow.keras import Sequential\n",
    "from tensorflow.keras.layers import Dense, Dropout, Embedding, Lambda\n",
    "import numpy as np\n",
    "import sklearn.utils as op\n",
    "import matplotlib.pyplot as plt\n",
    "from sklearn.metrics.pairwise import euclidean_distances\n",
    "from keras.utils import np_utils,pad_sequences\n",
    "import keras.backend as K\n",
    "import tensorflow as tf"
   ]
  },
  {
   "cell_type": "markdown",
   "id": "621c68de",
   "metadata": {},
   "source": [
    "# Data preparation"
   ]
  },
  {
   "cell_type": "code",
   "execution_count": 82,
   "id": "b23418ec",
   "metadata": {},
   "outputs": [],
   "source": [
    "data=open(\"./CBOW.txt\")\n"
   ]
  },
  {
   "cell_type": "code",
   "execution_count": 83,
   "id": "eaff64d5",
   "metadata": {},
   "outputs": [],
   "source": [
    "test=[text for text in data]\n"
   ]
  },
  {
   "cell_type": "code",
   "execution_count": 84,
   "id": "df71eabd",
   "metadata": {},
   "outputs": [
    {
     "data": {
      "text/plain": [
       "'The speed of transmission is an important point of difference between the two viruses. Influenza has a shorter median incubation period (the time from infection to appearance of symptoms) and a shorter serial interval (the time between successive cases) than COVID-19 virus. The serial interval for COVID-19 virus is estimated to be 5-6 days, while for influenza virus, the serial interval is 3 days. This means that influenza can spread faster than COVID-19. \\n'"
      ]
     },
     "execution_count": 84,
     "metadata": {},
     "output_type": "execute_result"
    }
   ],
   "source": [
    "test[0]"
   ]
  },
  {
   "cell_type": "markdown",
   "id": "bfb6f276",
   "metadata": {},
   "source": [
    "# Generate Training data"
   ]
  },
  {
   "cell_type": "code",
   "execution_count": 7,
   "id": "89353228",
   "metadata": {},
   "outputs": [],
   "source": [
    "token=Tokenizer()\n",
    "token.fit_on_texts(test)"
   ]
  },
  {
   "cell_type": "code",
   "execution_count": 8,
   "id": "ef01c9f7",
   "metadata": {},
   "outputs": [],
   "source": [
    "word2i=token.word_index"
   ]
  },
  {
   "cell_type": "code",
   "execution_count": 9,
   "id": "ee1595f6",
   "metadata": {},
   "outputs": [
    {
     "name": "stdout",
     "output_type": "stream",
     "text": [
      "{'the': 1, 'of': 2, 'influenza': 3, 'covid': 4, '19': 5, 'virus': 6, 'for': 7, 'transmission': 8, 'is': 9, 'to': 10, 'a': 11, 'and': 12, 'between': 13, 'time': 14, 'serial': 15, 'interval': 16, 'than': 17, 'be': 18, '5': 19, 'days': 20, '–': 21, 'are': 22, 'viruses': 23, 'shorter': 24, 'from': 25, 'appearance': 26, 'symptoms': 27, 'while': 28, '3': 29, 'this': 30, 'that': 31, 'can': 32, 'in': 33, 'major': 34, 'driver': 35, 'number': 36, '2': 37, 'speed': 38, 'an': 39, 'important': 40, 'point': 41, 'difference': 42, 'two': 43, 'has': 44, 'median': 45, 'incubation': 46, 'period': 47, 'infection': 48, 'successive': 49, 'cases': 50, 'estimated': 51, '6': 52, 'means': 53, 'spread': 54, 'faster': 55, 'further': 56, 'first': 57, 'illness': 58, 'or': 59, 'potentially': 60, 'pre': 61, 'symptomatic': 62, '–transmission': 63, 'before': 64, 'contrast': 65, 'we': 66, 'learning': 67, 'there': 68, 'people': 69, 'who': 70, 'shed': 71, '24': 72, '48': 73, 'hours': 74, 'prior': 75, 'symptom': 76, 'onset': 77, 'at': 78, 'present': 79, 'does': 80, 'not': 81, 'appear': 82, 'reproductive': 83, 'secondary': 84, 'infections': 85, 'generated': 86, 'one': 87, 'infected': 88, 'individual': 89, 'understood': 90, 'higher': 91, 'however': 92, 'estimates': 93, 'both': 94, 'very': 95, 'context': 96, 'specific': 97, 'making': 98, 'direct': 99, 'comparisons': 100, 'more': 101, 'difficult': 102}\n"
     ]
    }
   ],
   "source": [
    "print(word2i)"
   ]
  },
  {
   "cell_type": "code",
   "execution_count": 15,
   "id": "7af192ad",
   "metadata": {},
   "outputs": [],
   "source": [
    "corpus=token.texts_to_sequences(test)\n",
    "word2i['PAD']=0"
   ]
  },
  {
   "cell_type": "code",
   "execution_count": 14,
   "id": "5b9b9aaa",
   "metadata": {},
   "outputs": [],
   "source": [
    "id2word={k:i for i,k in word2i.items()}"
   ]
  },
  {
   "cell_type": "code",
   "execution_count": 16,
   "id": "e1fb2218",
   "metadata": {},
   "outputs": [],
   "source": [
    "vocab_size=len(word2i)\n",
    "embed_size=1000\n",
    "window_size=2"
   ]
  },
  {
   "cell_type": "code",
   "execution_count": 43,
   "id": "2cd14ba4",
   "metadata": {},
   "outputs": [],
   "source": [
    "def gen(corpus,win_s,voclen):\n",
    "    mxl=win_s*2\n",
    "    for words in corpus:\n",
    "        wordl=len(words)\n",
    "        for index,word in enumerate(words):\n",
    "            con=[]\n",
    "            st=index-window_size\n",
    "            end=index+window_size+1\n",
    "            lab=[]\n",
    "            con.append([words[i] for i in range(st,end) if 0<=i<wordl & i!=index])\n",
    "            lab.append(word)\n",
    "            x=pad_sequences(con,maxlen=mxl)\n",
    "            y=np_utils.to_categorical(lab,voclen)\n",
    "            yield(x,y)"
   ]
  },
  {
   "cell_type": "markdown",
   "id": "e14b532b",
   "metadata": {},
   "source": [
    "# Model training"
   ]
  },
  {
   "cell_type": "code",
   "execution_count": 69,
   "id": "62eef20a",
   "metadata": {},
   "outputs": [],
   "source": [
    "cbow= Sequential()\n",
    "cbow.add(Embedding(input_dim=vocab_size,output_dim=embed_size,input_length=window_size*2))\n",
    "cbow.add(Lambda(lambda y: K.mean(y,axis=1),output_shape=(embed_size,)))\n",
    "cbow.add(Dense(vocab_size,activation=\"relu\"))\n",
    "\n"
   ]
  },
  {
   "cell_type": "code",
   "execution_count": null,
   "id": "debffa29",
   "metadata": {},
   "outputs": [],
   "source": []
  },
  {
   "cell_type": "code",
   "execution_count": null,
   "id": "5395ce22",
   "metadata": {},
   "outputs": [],
   "source": []
  },
  {
   "cell_type": "code",
   "execution_count": 70,
   "id": "3e69c2b2",
   "metadata": {},
   "outputs": [
    {
     "name": "stdout",
     "output_type": "stream",
     "text": [
      "Model: \"sequential_7\"\n",
      "_________________________________________________________________\n",
      " Layer (type)                Output Shape              Param #   \n",
      "=================================================================\n",
      " embedding_6 (Embedding)     (None, 4, 1000)           103000    \n",
      "                                                                 \n",
      " lambda_6 (Lambda)           (None, 1000)              0         \n",
      "                                                                 \n",
      " dense_6 (Dense)             (None, 103)               103103    \n",
      "                                                                 \n",
      "=================================================================\n",
      "Total params: 206,103\n",
      "Trainable params: 206,103\n",
      "Non-trainable params: 0\n",
      "_________________________________________________________________\n"
     ]
    }
   ],
   "source": [
    "cbow.summary()"
   ]
  },
  {
   "cell_type": "code",
   "execution_count": 71,
   "id": "e9e50a96",
   "metadata": {},
   "outputs": [],
   "source": [
    "cbow.compile(loss=\"categorical_crossentropy\", optimizer=\"adadelta\")"
   ]
  },
  {
   "cell_type": "code",
   "execution_count": null,
   "id": "790406f5",
   "metadata": {},
   "outputs": [],
   "source": []
  },
  {
   "cell_type": "code",
   "execution_count": 72,
   "id": "d2eb49c3",
   "metadata": {},
   "outputs": [
    {
     "name": "stdout",
     "output_type": "stream",
     "text": [
      "Epooch: 1 \t Loss: 1845.1739621162415\n",
      "Epooch: 2 \t Loss: 1840.264280796051\n",
      "Epooch: 3 \t Loss: 1837.7488074302673\n",
      "Epooch: 4 \t Loss: 1835.3373048305511\n",
      "Epooch: 5 \t Loss: 1833.020281791687\n",
      "Epooch: 6 \t Loss: 1831.1028909683228\n",
      "Epooch: 7 \t Loss: 1829.3567471504211\n",
      "Epooch: 8 \t Loss: 1827.6797578334808\n",
      "Epooch: 9 \t Loss: 1826.0653283596039\n",
      "Epooch: 10 \t Loss: 1824.5085606575012\n"
     ]
    }
   ],
   "source": [
    "losses=[]\n",
    "for i in range(10):\n",
    "    loss=0\n",
    "    for x,y in gen(corpus,window_size,vocab_size):\n",
    "        loss+=cbow.train_on_batch(x,y)\n",
    "    losses.append(loss)\n",
    "    print(\"Epooch: {} \\t Loss: {}\".format(i+1,loss))"
   ]
  },
  {
   "cell_type": "markdown",
   "id": "dd2402f3",
   "metadata": {},
   "source": [
    "# Predict"
   ]
  },
  {
   "cell_type": "code",
   "execution_count": 73,
   "id": "4d82a4a0",
   "metadata": {},
   "outputs": [
    {
     "data": {
      "text/plain": [
       "(103, 1000)"
      ]
     },
     "execution_count": 73,
     "metadata": {},
     "output_type": "execute_result"
    }
   ],
   "source": [
    "weights=cbow.get_weights()[0]\n",
    "weights.shape"
   ]
  },
  {
   "cell_type": "code",
   "execution_count": 74,
   "id": "4b6d0136",
   "metadata": {},
   "outputs": [
    {
     "data": {
      "text/plain": [
       "(103, 103)"
      ]
     },
     "execution_count": 74,
     "metadata": {},
     "output_type": "execute_result"
    }
   ],
   "source": [
    "dismat=euclidean_distances(weights)\n",
    "dismat.shape"
   ]
  },
  {
   "cell_type": "markdown",
   "id": "a1286c2a",
   "metadata": {},
   "source": [
    "# output"
   ]
  },
  {
   "cell_type": "code",
   "execution_count": 35,
   "id": "c4d7a23a",
   "metadata": {},
   "outputs": [],
   "source": [
    "similar_terms={term: [id2word[idx] for idx in dismat[word2i[term]-1].argsort()[1:6]+1] for term in [\"potentially\"]}"
   ]
  },
  {
   "cell_type": "code",
   "execution_count": 36,
   "id": "f9abc9fd",
   "metadata": {},
   "outputs": [
    {
     "data": {
      "text/plain": [
       "{'potentially': ['than', 'can', 'viruses', '5', 'virus']}"
      ]
     },
     "execution_count": 36,
     "metadata": {},
     "output_type": "execute_result"
    }
   ],
   "source": [
    "similar_terms"
   ]
  },
  {
   "cell_type": "markdown",
   "id": "6271783e",
   "metadata": {},
   "source": [
    "# Plotting"
   ]
  },
  {
   "cell_type": "code",
   "execution_count": 78,
   "id": "0652a06e",
   "metadata": {},
   "outputs": [
    {
     "data": {
      "text/plain": [
       "<matplotlib.legend.Legend at 0x7f96bff792e0>"
      ]
     },
     "execution_count": 78,
     "metadata": {},
     "output_type": "execute_result"
    },
    {
     "data": {
      "image/png": "[encoded data removed]",
      "text/plain": [
       "<Figure size 500x400 with 1 Axes>"
      ]
     },
     "metadata": {},
     "output_type": "display_data"
    }
   ],
   "source": [
    "plt.figure(figsize=(5,4))\n",
    "plt.plot(np.arange(0,10),losses,label=\"Loss\")\n",
    "plt.xlabel(\"Epoches\")\n",
    "plt.ylabel(\"Loss\")\n",
    "plt.title(\"Visalizing loss per epooch\")\n",
    "plt.legend()"
   ]
  },
  {
   "cell_type": "code",
   "execution_count": null,
   "id": "ea44d608",
   "metadata": {},
   "outputs": [],
   "source": []
  },
  {
   "cell_type": "code",
   "execution_count": null,
   "id": "5bbec563",
   "metadata": {},
   "outputs": [],
   "source": []
  }
 ],
 "metadata": {
  "kernelspec": {
   "display_name": "Python 3 (ipykernel)",
   "language": "python",
   "name": "python3"
  },
  "language_info": {
   "codemirror_mode": {
    "name": "ipython",
    "version": 3
   },
   "file_extension": ".py",
   "mimetype": "text/x-python",
   "name": "python",
   "nbconvert_exporter": "python",
   "pygments_lexer": "ipython3",
   "version": "3.11.4"
  }
 },
 "nbformat": 4,
 "nbformat_minor": 5
}
